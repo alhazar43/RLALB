{
 "metadata": {
  "language_info": {
   "codemirror_mode": {
    "name": "ipython",
    "version": 3
   },
   "file_extension": ".py",
   "mimetype": "text/x-python",
   "name": "python",
   "nbconvert_exporter": "python",
   "pygments_lexer": "ipython3",
   "version": "3.9.5"
  },
  "orig_nbformat": 4,
  "kernelspec": {
   "name": "python3",
   "display_name": "Python 3.9.5 64-bit"
  },
  "interpreter": {
   "hash": "64f2125a05c72a45508a8e689b6c740dbc8c0eb0dde22f6704e447783c6d4865"
  }
 },
 "nbformat": 4,
 "nbformat_minor": 2,
 "cells": [
  {
   "cell_type": "code",
   "execution_count": 10,
   "metadata": {},
   "outputs": [
    {
     "output_type": "execute_result",
     "data": {
      "text/plain": [
       "  <number of tasks>\n",
       "0               100\n",
       "1      <cycle time>\n",
       "2              1000\n",
       "3  <order strength>\n",
       "4             0.196\n",
       "5      <task times>\n",
       "6             1 435\n",
       "7             2 362\n",
       "8              3 83\n",
       "9             4 100"
      ],
      "text/html": "<div>\n<style scoped>\n    .dataframe tbody tr th:only-of-type {\n        vertical-align: middle;\n    }\n\n    .dataframe tbody tr th {\n        vertical-align: top;\n    }\n\n    .dataframe thead th {\n        text-align: right;\n    }\n</style>\n<table border=\"1\" class=\"dataframe\">\n  <thead>\n    <tr style=\"text-align: right;\">\n      <th></th>\n      <th>&lt;number of tasks&gt;</th>\n    </tr>\n  </thead>\n  <tbody>\n    <tr>\n      <th>0</th>\n      <td>100</td>\n    </tr>\n    <tr>\n      <th>1</th>\n      <td>&lt;cycle time&gt;</td>\n    </tr>\n    <tr>\n      <th>2</th>\n      <td>1000</td>\n    </tr>\n    <tr>\n      <th>3</th>\n      <td>&lt;order strength&gt;</td>\n    </tr>\n    <tr>\n      <th>4</th>\n      <td>0.196</td>\n    </tr>\n    <tr>\n      <th>5</th>\n      <td>&lt;task times&gt;</td>\n    </tr>\n    <tr>\n      <th>6</th>\n      <td>1 435</td>\n    </tr>\n    <tr>\n      <th>7</th>\n      <td>2 362</td>\n    </tr>\n    <tr>\n      <th>8</th>\n      <td>3 83</td>\n    </tr>\n    <tr>\n      <th>9</th>\n      <td>4 100</td>\n    </tr>\n  </tbody>\n</table>\n</div>"
     },
     "metadata": {},
     "execution_count": 10
    }
   ],
   "source": [
    "import pandas as pd    \n",
    "data = pd.read_csv('test.txt', sep = \"\\t\")\n",
    "data"
   ]
  },
  {
   "cell_type": "code",
   "execution_count": 17,
   "metadata": {},
   "outputs": [],
   "source": [
    "import re\n",
    "\n",
    "\n",
    "file1 = open('test.txt', 'r')\n",
    "tt = file1.read()\n",
    "split_text = re.split(\"<.*>+\\n\", tt) "
   ]
  },
  {
   "cell_type": "code",
   "execution_count": 33,
   "metadata": {},
   "outputs": [
    {
     "output_type": "stream",
     "name": "stdout",
     "text": [
      "['100', '']\n"
     ]
    }
   ],
   "source": [
    "print(split_text[1].split('\\n'))"
   ]
  },
  {
   "cell_type": "code",
   "execution_count": 46,
   "metadata": {},
   "outputs": [
    {
     "output_type": "stream",
     "name": "stdout",
     "text": [
      "100 1000 0.196 <class 'float'>\n"
     ]
    }
   ],
   "source": [
    "n = int(split_text[1].split('\\n')[0])\n",
    "\n",
    "C = int(split_text[2].split('\\n')[0])\n",
    "\n",
    "ostr = float(split_text[3].split('\\n')[0])\n",
    "\n",
    "print(n,C,ostr)\n",
    "\n"
   ]
  },
  {
   "cell_type": "code",
   "execution_count": 52,
   "metadata": {},
   "outputs": [],
   "source": [
    "tsk = split_text[4].split('\\n')[0:-1]\n",
    "t = [int(ele.split(' ')[1]) for ele in tsk]"
   ]
  },
  {
   "cell_type": "code",
   "execution_count": 57,
   "metadata": {},
   "outputs": [],
   "source": [
    "prec = split_text[5].split('\\n')[0:-1]\n",
    "E = [[int(x) for x in ele.split(',')] for ele in prec]"
   ]
  },
  {
   "cell_type": "code",
   "execution_count": 60,
   "metadata": {},
   "outputs": [],
   "source": [
    "import numpy as np\n",
    "pr = np.zeros((n,n))"
   ]
  },
  {
   "cell_type": "code",
   "execution_count": 69,
   "metadata": {},
   "outputs": [],
   "source": [
    "for i, j in E:\n",
    "    pr[i-1,j-1] = 1\n",
    "pr = pr.astype(int)"
   ]
  },
  {
   "cell_type": "code",
   "execution_count": 70,
   "metadata": {},
   "outputs": [
    {
     "output_type": "execute_result",
     "data": {
      "text/plain": [
       "array([[0, 0, 0, ..., 0, 0, 0],\n",
       "       [0, 0, 0, ..., 0, 0, 0],\n",
       "       [0, 0, 0, ..., 0, 0, 0],\n",
       "       ...,\n",
       "       [0, 0, 0, ..., 0, 0, 0],\n",
       "       [0, 0, 0, ..., 0, 0, 0],\n",
       "       [0, 0, 0, ..., 0, 0, 0]])"
      ]
     },
     "metadata": {},
     "execution_count": 70
    }
   ],
   "source": [
    "pr"
   ]
  },
  {
   "cell_type": "code",
   "execution_count": 71,
   "metadata": {},
   "outputs": [],
   "source": [
    "np.savetxt('values.csv', pr, delimiter=\",\")"
   ]
  },
  {
   "cell_type": "code",
   "execution_count": 79,
   "metadata": {},
   "outputs": [],
   "source": [
    "import pandas as pd\n",
    "df3 = pd.DataFrame(pr)\n",
    "df2 = pd.DataFrame(t)\n",
    "df1 = pd.DataFrame([['number_of_tasks', n], ['cycle_time', C], ['order_strength', ostr]])\n",
    "\n",
    "with pd.ExcelWriter('file.xlsx') as writer:\n",
    "    df1.to_excel(writer, sheet_name='data_description', header=False, index=False) \n",
    "    df2.to_excel(writer, sheet_name='task_times', header=False, index=False)  \n",
    "    df3.to_excel(writer, sheet_name='precedence_relations', header=False, index=False)\n",
    "    \n"
   ]
  },
  {
   "cell_type": "code",
   "execution_count": 68,
   "metadata": {},
   "outputs": [
    {
     "output_type": "execute_result",
     "data": {
      "text/plain": [
       "105"
      ]
     },
     "metadata": {},
     "execution_count": 68
    }
   ],
   "source": [
    "len(E)"
   ]
  },
  {
   "cell_type": "code",
   "execution_count": 86,
   "metadata": {},
   "outputs": [],
   "source": [
    "with open('f1.txt', 'r') as f:\n",
    "    stt = \"\".join(line for line in f if not line.isspace())\n",
    "    split_text = re.split(\"<.*>+\\n\", stt)\n",
    "\n",
    "    n = int(split_text[1].split('\\n')[0])\n",
    "    C = int(split_text[2].split('\\n')[0])\n",
    "    ostr = float(split_text[3].split('\\n')[0])\n",
    "\n",
    "    tsk = split_text[4].split('\\n')[0:-1]\n",
    "    t = [int(ele.split(' ')[1]) for ele in tsk]\n",
    "\n",
    "    prec = split_text[5].split('\\n')[0:-1]\n",
    "    E = [[int(x) for x in ele.split(',')] for ele in prec]\n",
    "    import numpy as np\n",
    "    pr = np.zeros((n,n))\n",
    "    for i, j in E:\n",
    "        pr[i-1,j-1] = 1\n",
    "    pr = pr.astype(int)\n",
    "\n",
    "\n",
    "    import pandas as pd\n",
    "    df3 = pd.DataFrame(pr)\n",
    "    df2 = pd.DataFrame(t)\n",
    "    df1 = pd.DataFrame([['number_of_tasks', n], ['cycle_time', C], ['order_strength', ostr]])\n",
    "\n",
    "    with pd.ExcelWriter('instance_n=100_1.xlsx') as writer:\n",
    "        df1.to_excel(writer, sheet_name='data_descriptions', header=False, index=False) \n",
    "        df2.to_excel(writer, sheet_name='task_times', header=False, index=False)  \n",
    "        df3.to_excel(writer, sheet_name='precedence_relations', header=False, index=False)"
   ]
  },
  {
   "cell_type": "code",
   "execution_count": 83,
   "metadata": {},
   "outputs": [
    {
     "output_type": "execute_result",
     "data": {
      "text/plain": [
       "['',\n",
       " '100\\n',\n",
       " '1000\\n',\n",
       " '0.195\\n',\n",
       " '1 246\\n2 117\\n3 133\\n4 156\\n5 130\\n6 138\\n7 510\\n8 193\\n9 80\\n10 43\\n11 26\\n12 540\\n13 202\\n14 498\\n15 154\\n16 194\\n17 212\\n18 137\\n19 130\\n20 144\\n21 40\\n22 504\\n23 73\\n24 132\\n25 253\\n26 197\\n27 270\\n28 88\\n29 126\\n30 395\\n31 33\\n32 459\\n33 351\\n34 284\\n35 235\\n36 163\\n37 102\\n38 264\\n39 65\\n40 134\\n41 143\\n42 486\\n43 23\\n44 56\\n45 537\\n46 556\\n47 216\\n48 148\\n49 519\\n50 286\\n51 230\\n52 187\\n53 128\\n54 537\\n55 147\\n56 118\\n57 68\\n58 388\\n59 308\\n60 57\\n61 82\\n62 112\\n63 349\\n64 109\\n65 95\\n66 246\\n67 23\\n68 38\\n69 444\\n70 168\\n71 30\\n72 130\\n73 69\\n74 108\\n75 96\\n76 269\\n77 515\\n78 169\\n79 83\\n80 552\\n81 552\\n82 22\\n83 229\\n84 159\\n85 509\\n86 57\\n87 71\\n88 53\\n89 191\\n90 139\\n91 303\\n92 118\\n93 35\\n94 181\\n95 149\\n96 37\\n97 37\\n98 183\\n99 69\\n100 192\\n',\n",
       " '1,37\\n2,11\\n3,12\\n3,18\\n4,13\\n4,15\\n5,14\\n5,17\\n5,20\\n6,10\\n8,16\\n8,19\\n9,21\\n10,37\\n11,22\\n12,26\\n13,25\\n15,97\\n16,23\\n16,27\\n18,28\\n19,89\\n20,24\\n21,66\\n22,37\\n23,37\\n24,57\\n25,32\\n26,29\\n27,31\\n27,35\\n27,36\\n27,64\\n28,30\\n28,33\\n28,34\\n29,37\\n30,57\\n31,57\\n32,39\\n33,38\\n33,42\\n33,43\\n35,40\\n36,41\\n36,44\\n36,45\\n37,46\\n37,47\\n37,48\\n37,49\\n37,55\\n38,50\\n39,52\\n40,51\\n41,53\\n41,54\\n41,56\\n41,61\\n46,57\\n49,63\\n49,64\\n49,66\\n50,60\\n51,58\\n52,61\\n53,59\\n55,65\\n56,62\\n57,67\\n57,68\\n57,69\\n57,70\\n57,71\\n57,72\\n57,73\\n58,75\\n59,77\\n60,76\\n61,74\\n67,81\\n67,82\\n67,84\\n71,83\\n74,78\\n75,79\\n76,80\\n78,86\\n79,85\\n80,87\\n81,88\\n81,89\\n82,89\\n83,91\\n84,90\\n85,92\\n87,94\\n89,96\\n90,93\\n90,95\\n92,97\\n94,100\\n95,98\\n95,99\\n',\n",
       " '']"
      ]
     },
     "metadata": {},
     "execution_count": 83
    }
   ],
   "source": [
    "split_text"
   ]
  },
  {
   "cell_type": "code",
   "execution_count": null,
   "metadata": {},
   "outputs": [],
   "source": []
  }
 ]
}